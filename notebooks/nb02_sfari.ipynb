{
 "cells": [
  {
   "cell_type": "raw",
   "id": "6d4a43fd-3dd6-499c-ba2a-c9ec1fd48a99",
   "metadata": {
    "vscode": {
     "languageId": "raw"
    }
   },
   "source": [
    "---\n",
    "title: Sfari genes and relate scan for selection\n",
    "jupyter:\n",
    "  kernelspec:\n",
    "    display_name: Python 3 (ipykernel)\n",
    "    language: python\n",
    "    name: python3\n",
    "---"
   ]
  },
  {
   "cell_type": "code",
   "execution_count": 1,
   "id": "fc3edcc3-a0d8-41e2-a8ba-3a9770058b6b",
   "metadata": {},
   "outputs": [
    {
     "name": "stdout",
     "output_type": "stream",
     "text": [
      "env: http_proxy=http://proxy-default:3128\n",
      "env: https_proxy=http://proxy-default:3128\n"
     ]
    }
   ],
   "source": [
    "%env http_proxy=http://proxy-default:3128\n",
    "%env https_proxy=http://proxy-default:3128"
   ]
  },
  {
   "cell_type": "code",
   "execution_count": 1,
   "id": "4b37f05d-dbd7-4008-bf2e-0e9eafd833d0",
   "metadata": {
    "tags": []
   },
   "outputs": [
    {
     "data": {
      "text/markdown": [
       "| label | description |\n",
       "|:---|:---|\n",
       "| **all_npx** | all NPX genes |\n",
       "| **neuron_genome_proteome** | Neuron proteome (whole genome) |\n",
       "| **neuron_npx_proteome** | NPX neuron proteome |\n",
       "| **matos_neuron** | Matos neuron genes |\n",
       "| **matos_common** | Matos neuron genes expressed in spermatids |\n",
       "| **hpa_brain_prot** | Brain genes form Human protein atlas |\n",
       "| **meritxell_spermatid_expr** |  |\n",
       "| **mult_copy** | Multi copy genes |\n",
       "| **primate_ampl_multi** | Ampliconic or multicopy in some primates |\n",
       "| **gametologs** | Gametologs in some primates |\n",
       "| **old_cDEG** | Old cDEG |\n",
       "| **cDEG** | The rerun cDEGs |\n",
       "| **cDEG_alt** |  |\n",
       "| **Old nDEG** | old nDEG |\n",
       "| **nDEG** | nDEG |\n",
       "| **xi** | Subject to somatic X inactivation (XI) |\n",
       "| **xi_escape** | Escaping somatic X inactivation (XI) |\n",
       "| **xi_uncertain** | cDEG and Xi escape |\n",
       "| **xi_any_evidence** | allDEG and Xi escape |\n",
       "| **expr_mod_xi_copynr_fibrobl** | Xi escapers in either ECH,  hama or hum-nean |\n",
       "| **expr_mod_xi_copynr_lcl** | Xi escapers in ECH or hum-nean |\n",
       "| **expr_mod_xi_copynr** | Xi escapers  in hama or hum-nean |\n",
       "| **pure_hama** | Xi escapers  in hum-nean |\n",
       "| **hum_nean_admix** | Xi escapers  in ECH90 |\n",
       "| **ari_relate_EUR** | Xi escapers  in hama |\n",
       "| **ari_relate_ASIA** | Xi escaping (primate)  gametologs |\n",
       "| **ari_relate_AFR** | Xi escaping (primate)  gametologs in hum-nean |\n",
       "| **ari_nonPUR** | Xi escaping (primate)  gametologs in hama |\n",
       "| **ari_relate_PUR** | Xi escape in ari_nonPUR |\n",
       "| **ari_all** | Xi escape in accel_reg_simiiformes_br |\n",
       "| **candidates** | X genes uncertain XI status |\n",
       "| **ech75_regions** | Union of certain  and uncertain  XI status |\n",
       "| **ech90_regions** | Expression  modulated by Xi copy number (Fibroblast) |\n",
       "| **accel_reg_simiiformes_br** | Expression  modulated by Xi copy number (LCL) |\n",
       "| **my_primate_codeml** | Expression  modulated by Xi copy number (Fibroblast or LCL) |\n",
       "| **reg_sa_pheno** |  |\n",
       "| **sfari_all_conf** | Genes in 95% pure hamadryas regions in Gog |\n",
       "| **intel_seiz_lang** | Human-Neanderthal introgression |\n",
       "| **intelect_disabil** |  |\n",
       "| **Xbrain** |  |"
      ],
      "text/plain": [
       "<IPython.core.display.Markdown object>"
      ]
     },
     "metadata": {},
     "output_type": "display_data"
    },
    {
     "data": {
      "text/plain": []
     },
     "execution_count": 2,
     "metadata": {},
     "output_type": "execute_result"
    }
   ],
   "source": [
    "import random, os\n",
    "import pandas as pd\n",
    "import matplotlib\n",
    "from matplotlib.axes import Axes\n",
    "import matplotlib.pyplot as plt\n",
    "import seaborn as sns\n",
    "sns.set_style('ticks')\n",
    "%config InlineBackend.figure_format = 'retina'\n",
    "# %config InlineBackend.figure_format = 'svg'\n",
    "\n",
    "user_settings = '~/.jupyter/lab/user-settings/@jupyterlab/apputils-extension/themes.jupyterlab-settings'\n",
    "if 'JupyterLab Dark' in open(os.path.expanduser(user_settings)).read() or '__vsc_ipynb_file__' in globals():\n",
    "    style = {'axes.facecolor': '#111111',\n",
    "     'axes.edgecolor': '.99',\n",
    "     'axes.labelcolor': '.99',\n",
    "     'figure.facecolor': '#111111',\n",
    "     'grid.color': '.0',\n",
    "     'text.color': '.99',\n",
    "     'xtick.color': '.99',\n",
    "     'ytick.color': '.99',\n",
    "     'patch.edgecolor': 'w',\n",
    "    }\n",
    "    sns.set_style(style)\n",
    "    sns.set_palette('pastel')\n",
    "\n",
    "import geneinfo.utils as utils\n",
    "from geneinfo.utils import GeneList as glist\n",
    "import geneinfo.information as gi\n",
    "\n",
    "def stars(p):\n",
    "    return '*' * int((-np.log10(p / 5) - 1))\n",
    "\n",
    "gene_lists = utils.GeneListCollection(google_sheet='1JSjSLuto3jqdEnnG7JqzeC_1pUZw76n7XueVAYrUOpk')\n",
    "gene_lists    "
   ]
  },
  {
   "cell_type": "markdown",
   "id": "fbd4e50c-114a-4272-828b-a97993cf7ba7",
   "metadata": {},
   "source": [
    "## Relate overlap to Sfari genes"
   ]
  },
  {
   "cell_type": "code",
   "execution_count": 21,
   "id": "57c71fc5-8629-4889-a21a-c542df98a5f1",
   "metadata": {},
   "outputs": [
    {
     "data": {
      "text/html": [
       "<table data-quarto-disable-processing=\"true\" background: transparent!important; line-height: 10px!important;text-align: left!important;>\n",
       "<tr style=\"background: transparent!important; line-height: 10px!important;text-align: left!important;\">\n",
       "<td style=\"background: transparent!important; line-height: 10px!important;text-align: left!important;font-weight: bold;\">AFF2</td>\n",
       "<td style=\"background: transparent!important; line-height: 10px!important;text-align: left!important;\">BRWD3</td>\n",
       "<td style=\"background: transparent!important; line-height: 10px!important;text-align: left!important;\">DDX3X</td>\n",
       "<td style=\"background: transparent!important; line-height: 10px!important;text-align: left!important;\">GLRA2</td>\n",
       "<td style=\"background: transparent!important; line-height: 10px!important;text-align: left!important;font-weight: bold;\">IL1RAPL2</td>\n",
       "<td style=\"background: transparent!important; line-height: 10px!important;text-align: left!important;\">MSL3</td>\n",
       "<td style=\"background: transparent!important; line-height: 10px!important;text-align: left!important;\">PCDH19</td>\n",
       "<td style=\"background: transparent!important; line-height: 10px!important;text-align: left!important;\">RLIM</td>\n",
       "<td style=\"background: transparent!important; line-height: 10px!important;text-align: left!important;\">SYN1</td>\n",
       "<td style=\"background: transparent!important; line-height: 10px!important;text-align: left!important;\">UPF3B</td>\n",
       "</tr>\n",
       "<tr style=\"background: transparent!important; line-height: 10px!important;text-align: left!important;\">\n",
       "<td style=\"background: transparent!important; line-height: 10px!important;text-align: left!important;\">AGTR2</td>\n",
       "<td style=\"background: transparent!important; line-height: 10px!important;text-align: left!important;\">CACNA1F</td>\n",
       "<td style=\"background: transparent!important; line-height: 10px!important;text-align: left!important;font-weight: bold;\">DDX53</td>\n",
       "<td style=\"background: transparent!important; line-height: 10px!important;text-align: left!important;\">GPC4</td>\n",
       "<td style=\"background: transparent!important; line-height: 10px!important;text-align: left!important;font-weight: bold;\">IQSEC2</td>\n",
       "<td style=\"background: transparent!important; line-height: 10px!important;text-align: left!important;\">NEXMIF</td>\n",
       "<td style=\"background: transparent!important; line-height: 10px!important;text-align: left!important;font-weight: bold;\">PHF8</td>\n",
       "<td style=\"background: transparent!important; line-height: 10px!important;text-align: left!important;\">RPL10</td>\n",
       "<td style=\"background: transparent!important; line-height: 10px!important;text-align: left!important;\">SYP</td>\n",
       "<td style=\"background: transparent!important; line-height: 10px!important;text-align: left!important;\">USP9X</td>\n",
       "</tr>\n",
       "<tr style=\"background: transparent!important; line-height: 10px!important;text-align: left!important;\">\n",
       "<td style=\"background: transparent!important; line-height: 10px!important;text-align: left!important;\">AP1S2</td>\n",
       "<td style=\"background: transparent!important; line-height: 10px!important;text-align: left!important;font-weight: bold;\">CASK</td>\n",
       "<td style=\"background: transparent!important; line-height: 10px!important;text-align: left!important;font-weight: bold;\">DMD</td>\n",
       "<td style=\"background: transparent!important; line-height: 10px!important;text-align: left!important;\">GRIA3</td>\n",
       "<td style=\"background: transparent!important; line-height: 10px!important;text-align: left!important;\">KDM5C</td>\n",
       "<td style=\"background: transparent!important; line-height: 10px!important;text-align: left!important;\">NLGN3</td>\n",
       "<td style=\"background: transparent!important; line-height: 10px!important;text-align: left!important;font-weight: bold;\">PJA1</td>\n",
       "<td style=\"background: transparent!important; line-height: 10px!important;text-align: left!important;font-weight: bold;\">RPS6KA3</td>\n",
       "<td style=\"background: transparent!important; line-height: 10px!important;text-align: left!important;\">TAF1</td>\n",
       "<td style=\"background: transparent!important; line-height: 10px!important;text-align: left!important;font-weight: bold;\">VSIG4</td>\n",
       "</tr>\n",
       "<tr style=\"background: transparent!important; line-height: 10px!important;text-align: left!important;\">\n",
       "<td style=\"background: transparent!important; line-height: 10px!important;text-align: left!important;\">AR</td>\n",
       "<td style=\"background: transparent!important; line-height: 10px!important;text-align: left!important;font-weight: bold;\">CD99L2</td>\n",
       "<td style=\"background: transparent!important; line-height: 10px!important;text-align: left!important;\">FAM47A</td>\n",
       "<td style=\"background: transparent!important; line-height: 10px!important;text-align: left!important;\">HCFC1</td>\n",
       "<td style=\"background: transparent!important; line-height: 10px!important;text-align: left!important;font-weight: bold;\">KDM6A</td>\n",
       "<td style=\"background: transparent!important; line-height: 10px!important;text-align: left!important;\">NLGN4X</td>\n",
       "<td style=\"background: transparent!important; line-height: 10px!important;text-align: left!important;font-weight: bold;\">PLXNA3</td>\n",
       "<td style=\"background: transparent!important; line-height: 10px!important;text-align: left!important;font-weight: bold;\">SLC6A8</td>\n",
       "<td style=\"background: transparent!important; line-height: 10px!important;text-align: left!important;font-weight: bold;\">TBL1X</td>\n",
       "<td style=\"background: transparent!important; line-height: 10px!important;text-align: left!important;font-weight: bold;\">WNK3</td>\n",
       "</tr>\n",
       "<tr style=\"background: transparent!important; line-height: 10px!important;text-align: left!important;\">\n",
       "<td style=\"background: transparent!important; line-height: 10px!important;text-align: left!important;font-weight: bold;\">ARHGEF9</td>\n",
       "<td style=\"background: transparent!important; line-height: 10px!important;text-align: left!important;font-weight: bold;\">CDKL5</td>\n",
       "<td style=\"background: transparent!important; line-height: 10px!important;text-align: left!important;font-weight: bold;\">FGF13</td>\n",
       "<td style=\"background: transparent!important; line-height: 10px!important;text-align: left!important;\">HDAC8</td>\n",
       "<td style=\"background: transparent!important; line-height: 10px!important;text-align: left!important;\">LAS1L</td>\n",
       "<td style=\"background: transparent!important; line-height: 10px!important;text-align: left!important;\">OCRL</td>\n",
       "<td style=\"background: transparent!important; line-height: 10px!important;text-align: left!important;font-weight: bold;\">PTCHD1</td>\n",
       "<td style=\"background: transparent!important; line-height: 10px!important;text-align: left!important;\">SLC7A3</td>\n",
       "<td style=\"background: transparent!important; line-height: 10px!important;text-align: left!important;\">TBX22</td>\n",
       "<td style=\"background: transparent!important; line-height: 10px!important;text-align: left!important;\">ZNF711</td>\n",
       "</tr>\n",
       "<tr style=\"background: transparent!important; line-height: 10px!important;text-align: left!important;\">\n",
       "<td style=\"background: transparent!important; line-height: 10px!important;text-align: left!important;\">ARX</td>\n",
       "<td style=\"background: transparent!important; line-height: 10px!important;text-align: left!important;\">CHM</td>\n",
       "<td style=\"background: transparent!important; line-height: 10px!important;text-align: left!important;font-weight: bold;\">FMR1</td>\n",
       "<td style=\"background: transparent!important; line-height: 10px!important;text-align: left!important;\">HNRNPH2</td>\n",
       "<td style=\"background: transparent!important; line-height: 10px!important;text-align: left!important;\">MAOA</td>\n",
       "<td style=\"background: transparent!important; line-height: 10px!important;text-align: left!important;font-weight: bold;\">OFD1</td>\n",
       "<td style=\"background: transparent!important; line-height: 10px!important;text-align: left!important;font-weight: bold;\">PTCHD1-AS</td>\n",
       "<td style=\"background: transparent!important; line-height: 10px!important;text-align: left!important;font-weight: bold;\">SLC9A6</td>\n",
       "<td style=\"background: transparent!important; line-height: 10px!important;text-align: left!important;\">TFE3</td>\n",
       "<td style=\"background: transparent!important; line-height: 10px!important;text-align: left!important;\"></td>\n",
       "</tr>\n",
       "<tr style=\"background: transparent!important; line-height: 10px!important;text-align: left!important;\">\n",
       "<td style=\"background: transparent!important; line-height: 10px!important;text-align: left!important;\">ATRX</td>\n",
       "<td style=\"background: transparent!important; line-height: 10px!important;text-align: left!important;font-weight: bold;\">CLCN4</td>\n",
       "<td style=\"background: transparent!important; line-height: 10px!important;text-align: left!important;font-weight: bold;\">FRMPD4</td>\n",
       "<td style=\"background: transparent!important; line-height: 10px!important;text-align: left!important;font-weight: bold;\">HUWE1</td>\n",
       "<td style=\"background: transparent!important; line-height: 10px!important;text-align: left!important;font-weight: bold;\">MAOB</td>\n",
       "<td style=\"background: transparent!important; line-height: 10px!important;text-align: left!important;\">OPHN1</td>\n",
       "<td style=\"background: transparent!important; line-height: 10px!important;text-align: left!important;\">RAB39B</td>\n",
       "<td style=\"background: transparent!important; line-height: 10px!important;text-align: left!important;\">SMC1A</td>\n",
       "<td style=\"background: transparent!important; line-height: 10px!important;text-align: left!important;\">TMLHE</td>\n",
       "<td style=\"background: transparent!important; line-height: 10px!important;text-align: left!important;\"></td>\n",
       "</tr>\n",
       "<tr style=\"background: transparent!important; line-height: 10px!important;text-align: left!important;\">\n",
       "<td style=\"background: transparent!important; line-height: 10px!important;text-align: left!important;font-weight: bold;\">BCORL1</td>\n",
       "<td style=\"background: transparent!important; line-height: 10px!important;text-align: left!important;font-weight: bold;\">CNKSR2</td>\n",
       "<td style=\"background: transparent!important; line-height: 10px!important;text-align: left!important;\">GABRA3</td>\n",
       "<td style=\"background: transparent!important; line-height: 10px!important;text-align: left!important;font-weight: bold;\">IL1RAPL1</td>\n",
       "<td style=\"background: transparent!important; line-height: 10px!important;text-align: left!important;\">MECP2</td>\n",
       "<td style=\"background: transparent!important; line-height: 10px!important;text-align: left!important;\">PCDH11X</td>\n",
       "<td style=\"background: transparent!important; line-height: 10px!important;text-align: left!important;\">RHOXF1</td>\n",
       "<td style=\"background: transparent!important; line-height: 10px!important;text-align: left!important;\">SYAP1</td>\n",
       "<td style=\"background: transparent!important; line-height: 10px!important;text-align: left!important;\">TSPAN7</td>\n",
       "<td style=\"background: transparent!important; line-height: 10px!important;text-align: left!important;\"></td>\n",
       "</tr>\n",
       "</table>"
      ],
      "text/plain": [
       "AFF2      BRWD3     DDX3X     GLRA2     IL1RAPL2  MSL3      PCDH19    RLIM      SYN1      UPF3B     \n",
       "AGTR2     CACNA1F   DDX53     GPC4      IQSEC2    NEXMIF    PHF8      RPL10     SYP       USP9X     \n",
       "AP1S2     CASK      DMD       GRIA3     KDM5C     NLGN3     PJA1      RPS6KA3   TAF1      VSIG4     \n",
       "AR        CD99L2    FAM47A    HCFC1     KDM6A     NLGN4X    PLXNA3    SLC6A8    TBL1X     WNK3      \n",
       "ARHGEF9   CDKL5     FGF13     HDAC8     LAS1L     OCRL      PTCHD1    SLC7A3    TBX22     ZNF711    \n",
       "ARX       CHM       FMR1      HNRNPH2   MAOA      OFD1      PTCHD1-AS SLC9A6    TFE3                \n",
       "ATRX      CLCN4     FRMPD4    HUWE1     MAOB      OPHN1     RAB39B    SMC1A     TMLHE               \n",
       "BCORL1    CNKSR2    GABRA3    IL1RAPL1  MECP2     PCDH11X   RHOXF1    SYAP1     TSPAN7              "
      ]
     },
     "execution_count": 21,
     "metadata": {},
     "output_type": "execute_result"
    }
   ],
   "source": [
    "gene_lists.get('sfari_all_conf') << glist(chrX_signif.gene)"
   ]
  },
  {
   "cell_type": "code",
   "execution_count": 22,
   "id": "578db1ce-7971-4e7c-8732-63a929c80e82",
   "metadata": {},
   "outputs": [
    {
     "name": "stdout",
     "output_type": "stream",
     "text": [
      "1.41e-04 ***\n"
     ]
    }
   ],
   "source": [
    "p = gene_lists.get('sfari_all_conf').fisher(glist(chrX_signif.gene), background=all_genes_chrX)\n",
    "print(f'{p:.2e} {stars(p)}')"
   ]
  },
  {
   "cell_type": "code",
   "execution_count": 23,
   "id": "bc1aa110-be16-47dc-a7e6-c2498d9a5431",
   "metadata": {},
   "outputs": [
    {
     "name": "stdout",
     "output_type": "stream",
     "text": [
      "Africa               ASW  0.15130 \n",
      "Africa               ESN  0.22544 \n",
      "Africa               GWD  0.02573 *\n",
      "Africa               LWK  0.01648 *\n",
      "Africa               MSL  0.00274 **\n",
      "Africa               YRI  0.00150 **\n",
      "EastAsian            CDX  0.00225 **\n",
      "EastAsian            CHB  0.00426 **\n",
      "EastAsian            CHS  0.00685 *\n",
      "EastAsian            JPT  0.01118 *\n",
      "EastAsian            KHV  0.01274 *\n",
      "SouthAsia            PJL  0.03745 *\n",
      "SouthAsia            BEB  0.01110 *\n",
      "SouthAsia            GIH  0.01249 *\n",
      "SouthAsia            STU  0.01249 *\n",
      "SouthAsia            ITU  0.01249 *\n",
      "Europe               GBR  0.01323 *\n",
      "Europe               FIN  0.01083 *\n",
      "Europe               IBS  0.00190 **\n",
      "Europe               TSI  0.00320 **\n",
      "CentralSouthAmerica  MXL  0.00462 **\n",
      "CentralSouthAmerica  CLM  0.00379 **\n",
      "CentralSouthAmerica  PEL  0.00070 **\n",
      "Caribia              PUR  0.00014 ***\n",
      "Caribia              ACB  0.00014 ***\n"
     ]
    }
   ],
   "source": [
    "for population, region in pop_reg_map.items():\n",
    "    p = gene_lists.get('sfari_all_conf').fisher(chrX_signif_by_pop[population], background=all_genes_chrX)\n",
    "    print(f\"{region:<20} {population}  {p:.5f} {stars(p)}\")"
   ]
  },
  {
   "cell_type": "code",
   "execution_count": 24,
   "id": "f7f2deea-12e1-4104-bf17-7ce533b5b1a9",
   "metadata": {},
   "outputs": [
    {
     "data": {
      "text/html": [
       "<table data-quarto-disable-processing=\"true\" background: transparent!important; line-height: 10px!important;text-align: left!important;>\n",
       "<tr style=\"background: transparent!important; line-height: 10px!important;text-align: left!important;\">\n",
       "<td style=\"background: transparent!important; line-height: 10px!important;text-align: left!important;font-weight: bold;\">AFF2</td>\n",
       "<td style=\"background: transparent!important; line-height: 10px!important;text-align: left!important;\">BRWD3</td>\n",
       "<td style=\"background: transparent!important; line-height: 10px!important;text-align: left!important;\">DDX3X</td>\n",
       "<td style=\"background: transparent!important; line-height: 10px!important;text-align: left!important;\">GLRA2</td>\n",
       "<td style=\"background: transparent!important; line-height: 10px!important;text-align: left!important;font-weight: bold;\">IL1RAPL2</td>\n",
       "<td style=\"background: transparent!important; line-height: 10px!important;text-align: left!important;\">MSL3</td>\n",
       "<td style=\"background: transparent!important; line-height: 10px!important;text-align: left!important;\">PCDH19</td>\n",
       "<td style=\"background: transparent!important; line-height: 10px!important;text-align: left!important;color:#1876D2;\">RLIM</td>\n",
       "<td style=\"background: transparent!important; line-height: 10px!important;text-align: left!important;\">SYN1</td>\n",
       "<td style=\"background: transparent!important; line-height: 10px!important;text-align: left!important;\">UPF3B</td>\n",
       "</tr>\n",
       "<tr style=\"background: transparent!important; line-height: 10px!important;text-align: left!important;\">\n",
       "<td style=\"background: transparent!important; line-height: 10px!important;text-align: left!important;\">AGTR2</td>\n",
       "<td style=\"background: transparent!important; line-height: 10px!important;text-align: left!important;\">CACNA1F</td>\n",
       "<td style=\"background: transparent!important; line-height: 10px!important;text-align: left!important;font-weight: bold;\">DDX53</td>\n",
       "<td style=\"background: transparent!important; line-height: 10px!important;text-align: left!important;\">GPC4</td>\n",
       "<td style=\"background: transparent!important; line-height: 10px!important;text-align: left!important;font-weight: bold;\">IQSEC2</td>\n",
       "<td style=\"background: transparent!important; line-height: 10px!important;text-align: left!important;color:#1876D2;\">NEXMIF</td>\n",
       "<td style=\"background: transparent!important; line-height: 10px!important;text-align: left!important;font-weight: bold; color:#1876D2;\">PHF8</td>\n",
       "<td style=\"background: transparent!important; line-height: 10px!important;text-align: left!important;\">RPL10</td>\n",
       "<td style=\"background: transparent!important; line-height: 10px!important;text-align: left!important;\">SYP</td>\n",
       "<td style=\"background: transparent!important; line-height: 10px!important;text-align: left!important;\">USP9X</td>\n",
       "</tr>\n",
       "<tr style=\"background: transparent!important; line-height: 10px!important;text-align: left!important;\">\n",
       "<td style=\"background: transparent!important; line-height: 10px!important;text-align: left!important;\">AP1S2</td>\n",
       "<td style=\"background: transparent!important; line-height: 10px!important;text-align: left!important;font-weight: bold;\">CASK</td>\n",
       "<td style=\"background: transparent!important; line-height: 10px!important;text-align: left!important;font-weight: bold;\">DMD</td>\n",
       "<td style=\"background: transparent!important; line-height: 10px!important;text-align: left!important;\">GRIA3</td>\n",
       "<td style=\"background: transparent!important; line-height: 10px!important;text-align: left!important;\">KDM5C</td>\n",
       "<td style=\"background: transparent!important; line-height: 10px!important;text-align: left!important;\">NLGN3</td>\n",
       "<td style=\"background: transparent!important; line-height: 10px!important;text-align: left!important;font-weight: bold;\">PJA1</td>\n",
       "<td style=\"background: transparent!important; line-height: 10px!important;text-align: left!important;font-weight: bold;\">RPS6KA3</td>\n",
       "<td style=\"background: transparent!important; line-height: 10px!important;text-align: left!important;\">TAF1</td>\n",
       "<td style=\"background: transparent!important; line-height: 10px!important;text-align: left!important;font-weight: bold;\">VSIG4</td>\n",
       "</tr>\n",
       "<tr style=\"background: transparent!important; line-height: 10px!important;text-align: left!important;\">\n",
       "<td style=\"background: transparent!important; line-height: 10px!important;text-align: left!important;\">AR</td>\n",
       "<td style=\"background: transparent!important; line-height: 10px!important;text-align: left!important;font-weight: bold;\">CD99L2</td>\n",
       "<td style=\"background: transparent!important; line-height: 10px!important;text-align: left!important;\">FAM47A</td>\n",
       "<td style=\"background: transparent!important; line-height: 10px!important;text-align: left!important;\">HCFC1</td>\n",
       "<td style=\"background: transparent!important; line-height: 10px!important;text-align: left!important;font-weight: bold;\">KDM6A</td>\n",
       "<td style=\"background: transparent!important; line-height: 10px!important;text-align: left!important;\">NLGN4X</td>\n",
       "<td style=\"background: transparent!important; line-height: 10px!important;text-align: left!important;font-weight: bold;\">PLXNA3</td>\n",
       "<td style=\"background: transparent!important; line-height: 10px!important;text-align: left!important;font-weight: bold;\">SLC6A8</td>\n",
       "<td style=\"background: transparent!important; line-height: 10px!important;text-align: left!important;font-weight: bold;\">TBL1X</td>\n",
       "<td style=\"background: transparent!important; line-height: 10px!important;text-align: left!important;font-weight: bold; color:#1876D2;\">WNK3</td>\n",
       "</tr>\n",
       "<tr style=\"background: transparent!important; line-height: 10px!important;text-align: left!important;\">\n",
       "<td style=\"background: transparent!important; line-height: 10px!important;text-align: left!important;font-weight: bold;\">ARHGEF9</td>\n",
       "<td style=\"background: transparent!important; line-height: 10px!important;text-align: left!important;font-weight: bold;\">CDKL5</td>\n",
       "<td style=\"background: transparent!important; line-height: 10px!important;text-align: left!important;font-weight: bold;\">FGF13</td>\n",
       "<td style=\"background: transparent!important; line-height: 10px!important;text-align: left!important;\">HDAC8</td>\n",
       "<td style=\"background: transparent!important; line-height: 10px!important;text-align: left!important;color:#1876D2;\">LAS1L</td>\n",
       "<td style=\"background: transparent!important; line-height: 10px!important;text-align: left!important;\">OCRL</td>\n",
       "<td style=\"background: transparent!important; line-height: 10px!important;text-align: left!important;font-weight: bold;\">PTCHD1</td>\n",
       "<td style=\"background: transparent!important; line-height: 10px!important;text-align: left!important;\">SLC7A3</td>\n",
       "<td style=\"background: transparent!important; line-height: 10px!important;text-align: left!important;\">TBX22</td>\n",
       "<td style=\"background: transparent!important; line-height: 10px!important;text-align: left!important;\">ZNF711</td>\n",
       "</tr>\n",
       "<tr style=\"background: transparent!important; line-height: 10px!important;text-align: left!important;\">\n",
       "<td style=\"background: transparent!important; line-height: 10px!important;text-align: left!important;\">ARX</td>\n",
       "<td style=\"background: transparent!important; line-height: 10px!important;text-align: left!important;\">CHM</td>\n",
       "<td style=\"background: transparent!important; line-height: 10px!important;text-align: left!important;font-weight: bold;\">FMR1</td>\n",
       "<td style=\"background: transparent!important; line-height: 10px!important;text-align: left!important;\">HNRNPH2</td>\n",
       "<td style=\"background: transparent!important; line-height: 10px!important;text-align: left!important;\">MAOA</td>\n",
       "<td style=\"background: transparent!important; line-height: 10px!important;text-align: left!important;font-weight: bold;\">OFD1</td>\n",
       "<td style=\"background: transparent!important; line-height: 10px!important;text-align: left!important;font-weight: bold;\">PTCHD1-AS</td>\n",
       "<td style=\"background: transparent!important; line-height: 10px!important;text-align: left!important;font-weight: bold;\">SLC9A6</td>\n",
       "<td style=\"background: transparent!important; line-height: 10px!important;text-align: left!important;\">TFE3</td>\n",
       "<td style=\"background: transparent!important; line-height: 10px!important;text-align: left!important;\"></td>\n",
       "</tr>\n",
       "<tr style=\"background: transparent!important; line-height: 10px!important;text-align: left!important;\">\n",
       "<td style=\"background: transparent!important; line-height: 10px!important;text-align: left!important;color:#1876D2;\">ATRX</td>\n",
       "<td style=\"background: transparent!important; line-height: 10px!important;text-align: left!important;font-weight: bold;\">CLCN4</td>\n",
       "<td style=\"background: transparent!important; line-height: 10px!important;text-align: left!important;font-weight: bold;\">FRMPD4</td>\n",
       "<td style=\"background: transparent!important; line-height: 10px!important;text-align: left!important;font-weight: bold;\">HUWE1</td>\n",
       "<td style=\"background: transparent!important; line-height: 10px!important;text-align: left!important;font-weight: bold;\">MAOB</td>\n",
       "<td style=\"background: transparent!important; line-height: 10px!important;text-align: left!important;\">OPHN1</td>\n",
       "<td style=\"background: transparent!important; line-height: 10px!important;text-align: left!important;color:#1876D2;\">RAB39B</td>\n",
       "<td style=\"background: transparent!important; line-height: 10px!important;text-align: left!important;\">SMC1A</td>\n",
       "<td style=\"background: transparent!important; line-height: 10px!important;text-align: left!important;\">TMLHE</td>\n",
       "<td style=\"background: transparent!important; line-height: 10px!important;text-align: left!important;\"></td>\n",
       "</tr>\n",
       "<tr style=\"background: transparent!important; line-height: 10px!important;text-align: left!important;\">\n",
       "<td style=\"background: transparent!important; line-height: 10px!important;text-align: left!important;font-weight: bold;\">BCORL1</td>\n",
       "<td style=\"background: transparent!important; line-height: 10px!important;text-align: left!important;font-weight: bold; color:#1876D2;\">CNKSR2</td>\n",
       "<td style=\"background: transparent!important; line-height: 10px!important;text-align: left!important;\">GABRA3</td>\n",
       "<td style=\"background: transparent!important; line-height: 10px!important;text-align: left!important;font-weight: bold;\">IL1RAPL1</td>\n",
       "<td style=\"background: transparent!important; line-height: 10px!important;text-align: left!important;\">MECP2</td>\n",
       "<td style=\"background: transparent!important; line-height: 10px!important;text-align: left!important;\">PCDH11X</td>\n",
       "<td style=\"background: transparent!important; line-height: 10px!important;text-align: left!important;\">RHOXF1</td>\n",
       "<td style=\"background: transparent!important; line-height: 10px!important;text-align: left!important;\">SYAP1</td>\n",
       "<td style=\"background: transparent!important; line-height: 10px!important;text-align: left!important;\">TSPAN7</td>\n",
       "<td style=\"background: transparent!important; line-height: 10px!important;text-align: left!important;\"></td>\n",
       "</tr>\n",
       "</table>"
      ],
      "text/plain": [
       "AFF2      BRWD3     DDX3X     GLRA2     IL1RAPL2  MSL3      PCDH19    RLIM      SYN1      UPF3B     \n",
       "AGTR2     CACNA1F   DDX53     GPC4      IQSEC2    NEXMIF    PHF8      RPL10     SYP       USP9X     \n",
       "AP1S2     CASK      DMD       GRIA3     KDM5C     NLGN3     PJA1      RPS6KA3   TAF1      VSIG4     \n",
       "AR        CD99L2    FAM47A    HCFC1     KDM6A     NLGN4X    PLXNA3    SLC6A8    TBL1X     WNK3      \n",
       "ARHGEF9   CDKL5     FGF13     HDAC8     LAS1L     OCRL      PTCHD1    SLC7A3    TBX22     ZNF711    \n",
       "ARX       CHM       FMR1      HNRNPH2   MAOA      OFD1      PTCHD1-AS SLC9A6    TFE3                \n",
       "ATRX      CLCN4     FRMPD4    HUWE1     MAOB      OPHN1     RAB39B    SMC1A     TMLHE               \n",
       "BCORL1    CNKSR2    GABRA3    IL1RAPL1  MECP2     PCDH11X   RHOXF1    SYAP1     TSPAN7              "
      ]
     },
     "execution_count": 24,
     "metadata": {},
     "output_type": "execute_result"
    }
   ],
   "source": [
    "gene_lists.get('sfari_all_conf') << glist(chrX_signif.gene) << gene_lists.get('ech90_regions')"
   ]
  },
  {
   "cell_type": "code",
   "execution_count": 25,
   "id": "b3f0163a-a42f-40f1-9da5-ed68adf1f692",
   "metadata": {},
   "outputs": [],
   "source": [
    "relate_or_ech90 = glist(chrX_signif.gene) | gene_lists.get('ech90_regions')"
   ]
  },
  {
   "cell_type": "code",
   "execution_count": 26,
   "id": "b3e21fc5-db36-4f77-adb1-24c7c7ce4f95",
   "metadata": {},
   "outputs": [],
   "source": [
    "p, counts = gene_lists.get('sfari_all_conf').fisher(\n",
    "    relate_or_ech90,\n",
    "    background=all_genes_chrX,\n",
    "    return_counts=True)"
   ]
  },
  {
   "cell_type": "code",
   "execution_count": 27,
   "id": "26840973-4488-4715-80ff-87f677497c72",
   "metadata": {},
   "outputs": [
    {
     "data": {
      "text/html": [
       "<table data-quarto-disable-processing=\"true\" background: transparent!important; line-height: 10px!important;text-align: left!important;>\n",
       "<tr style=\"background: transparent!important; line-height: 10px!important;text-align: left!important;\">\n",
       "<td style=\"background: transparent!important; line-height: 10px!important;text-align: left!important;font-weight: bold; color:#1876D2;\">AFF2</td>\n",
       "<td style=\"background: transparent!important; line-height: 10px!important;text-align: left!important;color:#1876D2;\">BRWD3</td>\n",
       "<td style=\"background: transparent!important; line-height: 10px!important;text-align: left!important;color:#1876D2;\">DDX3X</td>\n",
       "<td style=\"background: transparent!important; line-height: 10px!important;text-align: left!important;color:#1876D2;\">GLRA2</td>\n",
       "<td style=\"background: transparent!important; line-height: 10px!important;text-align: left!important;font-weight: bold; color:#1876D2;\">IL1RAPL2</td>\n",
       "<td style=\"background: transparent!important; line-height: 10px!important;text-align: left!important;color:#1876D2;\">MSL3</td>\n",
       "<td style=\"background: transparent!important; line-height: 10px!important;text-align: left!important;color:#1876D2;\">PCDH19</td>\n",
       "<td style=\"background: transparent!important; line-height: 10px!important;text-align: left!important;font-weight: bold; color:#1876D2;\">RLIM</td>\n",
       "<td style=\"background: transparent!important; line-height: 10px!important;text-align: left!important;color:#1876D2;\">SYN1</td>\n",
       "<td style=\"background: transparent!important; line-height: 10px!important;text-align: left!important;color:#1876D2;\">UPF3B</td>\n",
       "</tr>\n",
       "<tr style=\"background: transparent!important; line-height: 10px!important;text-align: left!important;\">\n",
       "<td style=\"background: transparent!important; line-height: 10px!important;text-align: left!important;\">AGTR2</td>\n",
       "<td style=\"background: transparent!important; line-height: 10px!important;text-align: left!important;\">CACNA1F</td>\n",
       "<td style=\"background: transparent!important; line-height: 10px!important;text-align: left!important;font-weight: bold;\">DDX53</td>\n",
       "<td style=\"background: transparent!important; line-height: 10px!important;text-align: left!important;color:#1876D2;\">GPC4</td>\n",
       "<td style=\"background: transparent!important; line-height: 10px!important;text-align: left!important;font-weight: bold; color:#1876D2;\">IQSEC2</td>\n",
       "<td style=\"background: transparent!important; line-height: 10px!important;text-align: left!important;font-weight: bold; color:#1876D2;\">NEXMIF</td>\n",
       "<td style=\"background: transparent!important; line-height: 10px!important;text-align: left!important;font-weight: bold; color:#1876D2;\">PHF8</td>\n",
       "<td style=\"background: transparent!important; line-height: 10px!important;text-align: left!important;color:#1876D2;\">RPL10</td>\n",
       "<td style=\"background: transparent!important; line-height: 10px!important;text-align: left!important;color:#1876D2;\">SYP</td>\n",
       "<td style=\"background: transparent!important; line-height: 10px!important;text-align: left!important;color:#1876D2;\">USP9X</td>\n",
       "</tr>\n",
       "<tr style=\"background: transparent!important; line-height: 10px!important;text-align: left!important;\">\n",
       "<td style=\"background: transparent!important; line-height: 10px!important;text-align: left!important;color:#1876D2;\">AP1S2</td>\n",
       "<td style=\"background: transparent!important; line-height: 10px!important;text-align: left!important;font-weight: bold; color:#1876D2;\">CASK</td>\n",
       "<td style=\"background: transparent!important; line-height: 10px!important;text-align: left!important;font-weight: bold; color:#1876D2;\">DMD</td>\n",
       "<td style=\"background: transparent!important; line-height: 10px!important;text-align: left!important;color:#1876D2;\">GRIA3</td>\n",
       "<td style=\"background: transparent!important; line-height: 10px!important;text-align: left!important;color:#1876D2;\">KDM5C</td>\n",
       "<td style=\"background: transparent!important; line-height: 10px!important;text-align: left!important;color:#1876D2;\">NLGN3</td>\n",
       "<td style=\"background: transparent!important; line-height: 10px!important;text-align: left!important;font-weight: bold; color:#1876D2;\">PJA1</td>\n",
       "<td style=\"background: transparent!important; line-height: 10px!important;text-align: left!important;font-weight: bold; color:#1876D2;\">RPS6KA3</td>\n",
       "<td style=\"background: transparent!important; line-height: 10px!important;text-align: left!important;color:#1876D2;\">TAF1</td>\n",
       "<td style=\"background: transparent!important; line-height: 10px!important;text-align: left!important;font-weight: bold;\">VSIG4</td>\n",
       "</tr>\n",
       "<tr style=\"background: transparent!important; line-height: 10px!important;text-align: left!important;\">\n",
       "<td style=\"background: transparent!important; line-height: 10px!important;text-align: left!important;color:#1876D2;\">AR</td>\n",
       "<td style=\"background: transparent!important; line-height: 10px!important;text-align: left!important;font-weight: bold; color:#1876D2;\">CD99L2</td>\n",
       "<td style=\"background: transparent!important; line-height: 10px!important;text-align: left!important;\">FAM47A</td>\n",
       "<td style=\"background: transparent!important; line-height: 10px!important;text-align: left!important;color:#1876D2;\">HCFC1</td>\n",
       "<td style=\"background: transparent!important; line-height: 10px!important;text-align: left!important;font-weight: bold; color:#1876D2;\">KDM6A</td>\n",
       "<td style=\"background: transparent!important; line-height: 10px!important;text-align: left!important;color:#1876D2;\">NLGN4X</td>\n",
       "<td style=\"background: transparent!important; line-height: 10px!important;text-align: left!important;font-weight: bold; color:#1876D2;\">PLXNA3</td>\n",
       "<td style=\"background: transparent!important; line-height: 10px!important;text-align: left!important;font-weight: bold; color:#1876D2;\">SLC6A8</td>\n",
       "<td style=\"background: transparent!important; line-height: 10px!important;text-align: left!important;font-weight: bold; color:#1876D2;\">TBL1X</td>\n",
       "<td style=\"background: transparent!important; line-height: 10px!important;text-align: left!important;font-weight: bold; color:#1876D2;\">WNK3</td>\n",
       "</tr>\n",
       "<tr style=\"background: transparent!important; line-height: 10px!important;text-align: left!important;\">\n",
       "<td style=\"background: transparent!important; line-height: 10px!important;text-align: left!important;font-weight: bold; color:#1876D2;\">ARHGEF9</td>\n",
       "<td style=\"background: transparent!important; line-height: 10px!important;text-align: left!important;font-weight: bold; color:#1876D2;\">CDKL5</td>\n",
       "<td style=\"background: transparent!important; line-height: 10px!important;text-align: left!important;font-weight: bold; color:#1876D2;\">FGF13</td>\n",
       "<td style=\"background: transparent!important; line-height: 10px!important;text-align: left!important;color:#1876D2;\">HDAC8</td>\n",
       "<td style=\"background: transparent!important; line-height: 10px!important;text-align: left!important;font-weight: bold; color:#1876D2;\">LAS1L</td>\n",
       "<td style=\"background: transparent!important; line-height: 10px!important;text-align: left!important;color:#1876D2;\">OCRL</td>\n",
       "<td style=\"background: transparent!important; line-height: 10px!important;text-align: left!important;font-weight: bold; color:#1876D2;\">PTCHD1</td>\n",
       "<td style=\"background: transparent!important; line-height: 10px!important;text-align: left!important;\">SLC7A3</td>\n",
       "<td style=\"background: transparent!important; line-height: 10px!important;text-align: left!important;\">TBX22</td>\n",
       "<td style=\"background: transparent!important; line-height: 10px!important;text-align: left!important;color:#1876D2;\">ZNF711</td>\n",
       "</tr>\n",
       "<tr style=\"background: transparent!important; line-height: 10px!important;text-align: left!important;\">\n",
       "<td style=\"background: transparent!important; line-height: 10px!important;text-align: left!important;\">ARX</td>\n",
       "<td style=\"background: transparent!important; line-height: 10px!important;text-align: left!important;color:#1876D2;\">CHM</td>\n",
       "<td style=\"background: transparent!important; line-height: 10px!important;text-align: left!important;font-weight: bold; color:#1876D2;\">FMR1</td>\n",
       "<td style=\"background: transparent!important; line-height: 10px!important;text-align: left!important;color:#1876D2;\">HNRNPH2</td>\n",
       "<td style=\"background: transparent!important; line-height: 10px!important;text-align: left!important;color:#1876D2;\">MAOA</td>\n",
       "<td style=\"background: transparent!important; line-height: 10px!important;text-align: left!important;font-weight: bold; color:#1876D2;\">OFD1</td>\n",
       "<td style=\"background: transparent!important; line-height: 10px!important;text-align: left!important;font-weight: bold; color:#1876D2;\">PTCHD1-AS</td>\n",
       "<td style=\"background: transparent!important; line-height: 10px!important;text-align: left!important;font-weight: bold; color:#1876D2;\">SLC9A6</td>\n",
       "<td style=\"background: transparent!important; line-height: 10px!important;text-align: left!important;color:#1876D2;\">TFE3</td>\n",
       "<td style=\"background: transparent!important; line-height: 10px!important;text-align: left!important;\"></td>\n",
       "</tr>\n",
       "<tr style=\"background: transparent!important; line-height: 10px!important;text-align: left!important;\">\n",
       "<td style=\"background: transparent!important; line-height: 10px!important;text-align: left!important;font-weight: bold; color:#1876D2;\">ATRX</td>\n",
       "<td style=\"background: transparent!important; line-height: 10px!important;text-align: left!important;font-weight: bold; color:#1876D2;\">CLCN4</td>\n",
       "<td style=\"background: transparent!important; line-height: 10px!important;text-align: left!important;font-weight: bold; color:#1876D2;\">FRMPD4</td>\n",
       "<td style=\"background: transparent!important; line-height: 10px!important;text-align: left!important;font-weight: bold; color:#1876D2;\">HUWE1</td>\n",
       "<td style=\"background: transparent!important; line-height: 10px!important;text-align: left!important;font-weight: bold; color:#1876D2;\">MAOB</td>\n",
       "<td style=\"background: transparent!important; line-height: 10px!important;text-align: left!important;color:#1876D2;\">OPHN1</td>\n",
       "<td style=\"background: transparent!important; line-height: 10px!important;text-align: left!important;font-weight: bold;\">RAB39B</td>\n",
       "<td style=\"background: transparent!important; line-height: 10px!important;text-align: left!important;color:#1876D2;\">SMC1A</td>\n",
       "<td style=\"background: transparent!important; line-height: 10px!important;text-align: left!important;color:#1876D2;\">TMLHE</td>\n",
       "<td style=\"background: transparent!important; line-height: 10px!important;text-align: left!important;\"></td>\n",
       "</tr>\n",
       "<tr style=\"background: transparent!important; line-height: 10px!important;text-align: left!important;\">\n",
       "<td style=\"background: transparent!important; line-height: 10px!important;text-align: left!important;font-weight: bold; color:#1876D2;\">BCORL1</td>\n",
       "<td style=\"background: transparent!important; line-height: 10px!important;text-align: left!important;font-weight: bold; color:#1876D2;\">CNKSR2</td>\n",
       "<td style=\"background: transparent!important; line-height: 10px!important;text-align: left!important;color:#1876D2;\">GABRA3</td>\n",
       "<td style=\"background: transparent!important; line-height: 10px!important;text-align: left!important;font-weight: bold; color:#1876D2;\">IL1RAPL1</td>\n",
       "<td style=\"background: transparent!important; line-height: 10px!important;text-align: left!important;color:#1876D2;\">MECP2</td>\n",
       "<td style=\"background: transparent!important; line-height: 10px!important;text-align: left!important;color:#1876D2;\">PCDH11X</td>\n",
       "<td style=\"background: transparent!important; line-height: 10px!important;text-align: left!important;color:#1876D2;\">RHOXF1</td>\n",
       "<td style=\"background: transparent!important; line-height: 10px!important;text-align: left!important;color:#1876D2;\">SYAP1</td>\n",
       "<td style=\"background: transparent!important; line-height: 10px!important;text-align: left!important;color:#1876D2;\">TSPAN7</td>\n",
       "<td style=\"background: transparent!important; line-height: 10px!important;text-align: left!important;\"></td>\n",
       "</tr>\n",
       "</table>"
      ],
      "text/plain": [
       "AFF2      BRWD3     DDX3X     GLRA2     IL1RAPL2  MSL3      PCDH19    RLIM      SYN1      UPF3B     \n",
       "AGTR2     CACNA1F   DDX53     GPC4      IQSEC2    NEXMIF    PHF8      RPL10     SYP       USP9X     \n",
       "AP1S2     CASK      DMD       GRIA3     KDM5C     NLGN3     PJA1      RPS6KA3   TAF1      VSIG4     \n",
       "AR        CD99L2    FAM47A    HCFC1     KDM6A     NLGN4X    PLXNA3    SLC6A8    TBL1X     WNK3      \n",
       "ARHGEF9   CDKL5     FGF13     HDAC8     LAS1L     OCRL      PTCHD1    SLC7A3    TBX22     ZNF711    \n",
       "ARX       CHM       FMR1      HNRNPH2   MAOA      OFD1      PTCHD1-AS SLC9A6    TFE3                \n",
       "ATRX      CLCN4     FRMPD4    HUWE1     MAOB      OPHN1     RAB39B    SMC1A     TMLHE               \n",
       "BCORL1    CNKSR2    GABRA3    IL1RAPL1  MECP2     PCDH11X   RHOXF1    SYAP1     TSPAN7              "
      ]
     },
     "execution_count": 27,
     "metadata": {},
     "output_type": "execute_result"
    }
   ],
   "source": [
    "gene_lists.get('sfari_all_conf') << relate_or_ech90 << gene_lists.get('meritxell_spermatid_expr')"
   ]
  },
  {
   "cell_type": "markdown",
   "id": "f604025b-d4f1-45a2-9814-592ce8f6920c",
   "metadata": {},
   "source": [
    "### considering only spermatid expressed, sfari genes are even more strongly enriched"
   ]
  },
  {
   "cell_type": "code",
   "execution_count": 28,
   "id": "814d606d-1d11-4fe9-8d08-c1bd89083158",
   "metadata": {},
   "outputs": [
    {
     "name": "stdout",
     "output_type": "stream",
     "text": [
      "5.82e-05 ***\n"
     ]
    }
   ],
   "source": [
    "(\n",
    "    (gene_lists.get('sfari_all_conf') & gene_lists.get('meritxell_spermatid_expr'))\n",
    "    .fisher(\n",
    "        (relate_or_ech90 & gene_lists.get('meritxell_spermatid_expr')),\n",
    "    background=gene_lists.get('meritxell_spermatid_expr'),\n",
    "    return_counts=True)\n",
    ")\n",
    "print(f'{p:.2e} {stars(p)}')"
   ]
  },
  {
   "cell_type": "markdown",
   "id": "800e08dc-bc37-4834-b394-a3936a4f4cb3",
   "metadata": {},
   "source": [
    "## Also enriched among pure hama genes"
   ]
  },
  {
   "cell_type": "code",
   "execution_count": 29,
   "id": "621f47e7-593e-4e9a-9b4c-d39686aab993",
   "metadata": {},
   "outputs": [
    {
     "data": {
      "text/plain": [
       "(0.0016555738972285853, [[10, 55], [67, 1316]])"
      ]
     },
     "execution_count": 29,
     "metadata": {},
     "output_type": "execute_result"
    }
   ],
   "source": [
    "gene_lists.get('sfari_all_conf').fisher(\n",
    "    (gene_lists.get('pure_hama')),\n",
    "    background=all_genes_chrX,\n",
    "    return_counts=True)"
   ]
  },
  {
   "cell_type": "markdown",
   "id": "2f463f29-d5a2-47e1-8883-66ac4d5341dd",
   "metadata": {},
   "source": [
    "## Also among human_nean_genes"
   ]
  },
  {
   "cell_type": "code",
   "execution_count": 30,
   "id": "edc08cf3-b70e-4ed1-b9f6-2d6a8ab02940",
   "metadata": {},
   "outputs": [
    {
     "data": {
      "text/plain": [
       "(0.0018677807804493786, [[10, 56], [67, 1315]])"
      ]
     },
     "execution_count": 30,
     "metadata": {},
     "output_type": "execute_result"
    }
   ],
   "source": [
    "gene_lists.get('sfari_all_conf').fisher(\n",
    "    (gene_lists.get('hum_nean_admix')),\n",
    "    background=all_genes_chrX,\n",
    "    return_counts=True)"
   ]
  },
  {
   "cell_type": "code",
   "execution_count": null,
   "id": "2b0b9c35-3dd8-45b3-a3d9-44e24f259e06",
   "metadata": {},
   "outputs": [],
   "source": []
  }
 ],
 "metadata": {
  "kernelspec": {
   "display_name": "Python 3 (ipykernel)",
   "language": "python",
   "name": "python3"
  },
  "language_info": {
   "codemirror_mode": {
    "name": "ipython",
    "version": 3
   },
   "file_extension": ".py",
   "mimetype": "text/x-python",
   "name": "python",
   "nbconvert_exporter": "python",
   "pygments_lexer": "ipython3",
   "version": "3.12.9"
  }
 },
 "nbformat": 4,
 "nbformat_minor": 5
}
